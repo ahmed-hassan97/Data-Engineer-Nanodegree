{
 "cells": [
  {
   "cell_type": "code",
   "execution_count": 3,
   "source": [
    "import psycopg2\r\n",
    "import pandas as pd\r\n",
    "from sql_queries import *\r\n",
    "from connect import *\r\n",
    "import glob as glob"
   ],
   "outputs": [],
   "metadata": {}
  },
  {
   "cell_type": "code",
   "execution_count": 4,
   "source": [
    "def get_all_files_matching_from_directory(directorypath, match):\r\n",
    "    \"\"\"\r\n",
    "    Get all the files that match into a directory recursively.\r\n",
    "    :param directorypath: path/to/directory.\r\n",
    "    :param match: match expression.\r\n",
    "    :return: array with all the files that match.\r\n",
    "    \"\"\"\r\n",
    "    # get all files matching extension from directory\r\n",
    "    all_files = []\r\n",
    "    for root, dirs, files in os.walk(directorypath):\r\n",
    "        files = glob.glob(os.path.join(root, match))\r\n",
    "        for f in files :\r\n",
    "            all_files.append(os.path.abspath(f))\r\n",
    "\r\n",
    "    return all_files\r\n"
   ],
   "outputs": [],
   "metadata": {}
  },
  {
   "cell_type": "code",
   "execution_count": 5,
   "source": [
    "allFiles = get_all_files_matching_from_directory('./data/song_data' , '*.json')"
   ],
   "outputs": [],
   "metadata": {}
  },
  {
   "cell_type": "code",
   "execution_count": 6,
   "source": [
    "print(allFiles[0])"
   ],
   "outputs": [
    {
     "output_type": "stream",
     "name": "stdout",
     "text": [
      "c:\\Users\\say\\Desktop\\course-learning\\Data-engineer-course\\Data-engineer-project\\project01-data-modeling-with-postgres\\data\\song_data\\A\\A\\A\\TRAAAAW128F429D538.json\n"
     ]
    }
   ],
   "metadata": {}
  },
  {
   "cell_type": "code",
   "execution_count": 7,
   "source": [
    "## connect to database\r\n",
    "conn , cur = connect_database('sparkifydb')"
   ],
   "outputs": [],
   "metadata": {}
  },
  {
   "cell_type": "code",
   "execution_count": 8,
   "source": [
    "songData = get_all_files_matching_from_directory('./data/song_data' , '*.json')\r\n",
    "logData = get_all_files_matching_from_directory('./data/log_data' , '*.json')\r\n"
   ],
   "outputs": [],
   "metadata": {}
  },
  {
   "cell_type": "code",
   "execution_count": 9,
   "source": [
    "songData[0]"
   ],
   "outputs": [
    {
     "output_type": "execute_result",
     "data": {
      "text/plain": [
       "'c:\\\\Users\\\\say\\\\Desktop\\\\course-learning\\\\Data-engineer-course\\\\Data-engineer-project\\\\project01-data-modeling-with-postgres\\\\data\\\\song_data\\\\A\\\\A\\\\A\\\\TRAAAAW128F429D538.json'"
      ]
     },
     "metadata": {},
     "execution_count": 9
    }
   ],
   "metadata": {}
  },
  {
   "cell_type": "code",
   "execution_count": 10,
   "source": [
    "print(\"length of song data is :\", len(songData))\r\n",
    "print(\"length of log data is :\", len(logData))"
   ],
   "outputs": [
    {
     "output_type": "stream",
     "name": "stdout",
     "text": [
      "length of song data is : 71\n",
      "length of log data is : 30\n"
     ]
    }
   ],
   "metadata": {}
  },
  {
   "cell_type": "code",
   "execution_count": 47,
   "source": [
    "def insertRecord(cur , insertQuery , df , fields):\r\n",
    "    record = df[fields].values[0].tolist()\r\n",
    "    cur.execute(insertQuery , record)\r\n",
    "\r\n",
    "def insertDataframe(cur , df , insertQuery):\r\n",
    "    for i, row in df.iterrows():\r\n",
    "        cur.execute(insertQuery, list(row))\r\n",
    "\r\n",
    "\r\n",
    "def get_songid_artistid(cur, song, artist, length):\r\n",
    "    \"\"\"\r\n",
    "    Gets the song_id and the artist_id from song tittle, artist name and gon duration.\r\n",
    "    :param cur: connection cursor to query the data in DB.\r\n",
    "    :param song: song tittle\r\n",
    "    :param artist: artist name\r\n",
    "    :param length: song duration\r\n",
    "    :return: returns song_id and artist_id\r\n",
    "    \"\"\"\r\n",
    "\r\n",
    "    # get songid and artistid from song and artist tables\r\n",
    "    cur.execute(song_select, (song, artist, length))\r\n",
    "    results = cur.fetchone()\r\n",
    "\r\n",
    "    if results:\r\n",
    "        songid, artistid = results\r\n",
    "    else:\r\n",
    "        songid, artistid = None, None\r\n",
    "\r\n",
    "    return songid, artistid\r\n",
    "\r\n",
    "\r\n",
    "def insert_facts_songplays(cur, df):\r\n",
    "    \"\"\"\r\n",
    "    Insert songplays fact table\r\n",
    "    :param cur: connection cursor to insert the data in DB.\r\n",
    "    :param df: dataframe with song plays data.\r\n",
    "    \"\"\"\r\n",
    "\r\n",
    "    # insert songplay records\r\n",
    "    for index, row in df.iterrows():\r\n",
    "        song_id, artist_id = get_songid_artistid(cur, row.song, row.artist, row.length)\r\n",
    "\r\n",
    "        # insert songplay record\r\n",
    "        songplay_data = (row.ts, row.userId, row.level, song_id, artist_id,\r\n",
    "                         row.itemInSession, row.location, row.userAgent)\r\n",
    "        cur.execute(songplay_table_insert, songplay_data)\r\n",
    "\r\n",
    "\r\n",
    "\r\n",
    "\r\n",
    "def process_song_file(cur , filePath):\r\n",
    "    df = pd.read_json(filePath, lines=True)\r\n",
    "        # insert song record\r\n",
    "    insertRecord(cur, song_table_insert, df, ['song_id', 'title', 'artist_id', 'year', 'duration'])\r\n",
    "    \r\n",
    "    # insert artist record\r\n",
    "    insertRecord(cur, artist_table_insert, df,\r\n",
    "                  ['artist_id', 'artist_name', 'artist_location', 'artist_latitude', 'artist_longitude'])\r\n",
    "    return df\r\n",
    "\r\n",
    "def expand_time_data(df , ts):\r\n",
    "    df['datetime'] = pd.to_datetime(df[ts], unit='ms')\r\n",
    "    t = df\r\n",
    "    t['year'] = t['datetime'].dt.year\r\n",
    "    t['month'] = t['datetime'].dt.month\r\n",
    "    t['day'] = t['datetime'].dt.day\r\n",
    "    t['hour'] = t['datetime'].dt.hour\r\n",
    "    t['weekday_name'] = t['datetime'].dt.day_name()\r\n",
    "    t['week'] = t['datetime'].dt.week\r\n",
    "\r\n",
    "    return t\r\n",
    "\r\n",
    "\r\n",
    "def process_log_file(cur, filepath):\r\n",
    "    df = pd.read_json(filepath , lines = True)\r\n",
    "    columns = df.columns\r\n",
    "    print(columns)\r\n",
    "    \r\n",
    "    df = df.loc[df['page'] == 'NextSong']\r\n",
    "\r\n",
    "    t = expand_time_data(df , 'ts')\r\n",
    "    print(t.columns)\r\n",
    "    time_df = t[['ts', 'hour', 'day', 'week', 'month', 'year', 'weekday_name']]\r\n",
    "    insertDataframe(cur, time_df, time_table_insert)\r\n",
    "\r\n",
    "        # load user table\r\n",
    "    user_df = df[['userId', 'firstName', 'lastName', 'gender', 'level']]\r\n",
    "    insertDataframe(cur, user_df, user_table_insert)\r\n",
    "\r\n",
    "    # insert songplay records\r\n",
    "    insert_facts_songplays(cur, df)\r\n",
    "\r\n",
    "\r\n",
    "    print(t)\r\n",
    "    \r\n",
    "\r\n",
    "\r\n",
    "def processData(cur, conn, filepath, func):\r\n",
    "    all_files = get_all_files_matching_from_directory(filepath, '*.json')\r\n",
    "    for i , dataFile in enumerate(allFiles ,1):\r\n",
    "        func(cur , dataFile)\r\n",
    "        conn.commit()\r\n",
    "        print(\"path file :{} : {} \".format(filepath ,i))\r\n",
    "\r\n",
    "\r\n"
   ],
   "outputs": [],
   "metadata": {}
  },
  {
   "cell_type": "code",
   "execution_count": 48,
   "source": [
    "def main():\r\n",
    "    conn , cur = connect_database(\"sparkifydb\")\r\n",
    "\r\n",
    "    processData(cur, conn, filepath='./data/song_data', func=process_song_file)\r\n",
    "    processData(cur, conn, filepath='data/log_data', func=process_log_file)\r\n",
    "\r\n",
    "    close_connection(cur , conn)"
   ],
   "outputs": [],
   "metadata": {}
  },
  {
   "cell_type": "code",
   "execution_count": 49,
   "source": [
    "main()"
   ],
   "outputs": [
    {
     "output_type": "stream",
     "name": "stdout",
     "text": [
      "path file :./data/song_data : 1 \n",
      "path file :./data/song_data : 2 \n",
      "path file :./data/song_data : 3 \n",
      "path file :./data/song_data : 4 \n",
      "path file :./data/song_data : 5 \n",
      "path file :./data/song_data : 6 \n",
      "path file :./data/song_data : 7 \n",
      "path file :./data/song_data : 8 \n",
      "path file :./data/song_data : 9 \n",
      "path file :./data/song_data : 10 \n",
      "path file :./data/song_data : 11 \n",
      "path file :./data/song_data : 12 \n",
      "path file :./data/song_data : 13 \n",
      "path file :./data/song_data : 14 \n",
      "path file :./data/song_data : 15 \n",
      "path file :./data/song_data : 16 \n",
      "path file :./data/song_data : 17 \n",
      "path file :./data/song_data : 18 \n",
      "path file :./data/song_data : 19 \n",
      "path file :./data/song_data : 20 \n",
      "path file :./data/song_data : 21 \n",
      "path file :./data/song_data : 22 \n",
      "path file :./data/song_data : 23 \n",
      "path file :./data/song_data : 24 \n",
      "path file :./data/song_data : 25 \n",
      "path file :./data/song_data : 26 \n",
      "path file :./data/song_data : 27 \n",
      "path file :./data/song_data : 28 \n",
      "path file :./data/song_data : 29 \n",
      "path file :./data/song_data : 30 \n",
      "path file :./data/song_data : 31 \n",
      "path file :./data/song_data : 32 \n",
      "path file :./data/song_data : 33 \n",
      "path file :./data/song_data : 34 \n",
      "path file :./data/song_data : 35 \n",
      "path file :./data/song_data : 36 \n",
      "path file :./data/song_data : 37 \n",
      "path file :./data/song_data : 38 \n",
      "path file :./data/song_data : 39 \n",
      "path file :./data/song_data : 40 \n",
      "path file :./data/song_data : 41 \n",
      "path file :./data/song_data : 42 \n",
      "path file :./data/song_data : 43 \n",
      "path file :./data/song_data : 44 \n",
      "path file :./data/song_data : 45 \n",
      "path file :./data/song_data : 46 \n",
      "path file :./data/song_data : 47 \n",
      "path file :./data/song_data : 48 \n",
      "path file :./data/song_data : 49 \n",
      "path file :./data/song_data : 50 \n",
      "path file :./data/song_data : 51 \n",
      "path file :./data/song_data : 52 \n",
      "path file :./data/song_data : 53 \n",
      "path file :./data/song_data : 54 \n",
      "path file :./data/song_data : 55 \n",
      "path file :./data/song_data : 56 \n",
      "path file :./data/song_data : 57 \n",
      "path file :./data/song_data : 58 \n",
      "path file :./data/song_data : 59 \n",
      "path file :./data/song_data : 60 \n",
      "path file :./data/song_data : 61 \n",
      "path file :./data/song_data : 62 \n",
      "path file :./data/song_data : 63 \n",
      "path file :./data/song_data : 64 \n",
      "path file :./data/song_data : 65 \n",
      "path file :./data/song_data : 66 \n",
      "path file :./data/song_data : 67 \n",
      "path file :./data/song_data : 68 \n",
      "path file :./data/song_data : 69 \n",
      "path file :./data/song_data : 70 \n",
      "path file :./data/song_data : 71 \n"
     ]
    },
    {
     "output_type": "error",
     "ename": "KeyError",
     "evalue": "'page'",
     "traceback": [
      "\u001b[1;31m---------------------------------------------------------------------------\u001b[0m",
      "\u001b[1;31mKeyError\u001b[0m                                  Traceback (most recent call last)",
      "\u001b[1;32m~\\anaconda3\\lib\\site-packages\\pandas\\core\\indexes\\base.py\u001b[0m in \u001b[0;36mget_loc\u001b[1;34m(self, key, method, tolerance)\u001b[0m\n\u001b[0;32m   3360\u001b[0m             \u001b[1;32mtry\u001b[0m\u001b[1;33m:\u001b[0m\u001b[1;33m\u001b[0m\u001b[1;33m\u001b[0m\u001b[0m\n\u001b[1;32m-> 3361\u001b[1;33m                 \u001b[1;32mreturn\u001b[0m \u001b[0mself\u001b[0m\u001b[1;33m.\u001b[0m\u001b[0m_engine\u001b[0m\u001b[1;33m.\u001b[0m\u001b[0mget_loc\u001b[0m\u001b[1;33m(\u001b[0m\u001b[0mcasted_key\u001b[0m\u001b[1;33m)\u001b[0m\u001b[1;33m\u001b[0m\u001b[1;33m\u001b[0m\u001b[0m\n\u001b[0m\u001b[0;32m   3362\u001b[0m             \u001b[1;32mexcept\u001b[0m \u001b[0mKeyError\u001b[0m \u001b[1;32mas\u001b[0m \u001b[0merr\u001b[0m\u001b[1;33m:\u001b[0m\u001b[1;33m\u001b[0m\u001b[1;33m\u001b[0m\u001b[0m\n",
      "\u001b[1;32m~\\anaconda3\\lib\\site-packages\\pandas\\_libs\\index.pyx\u001b[0m in \u001b[0;36mpandas._libs.index.IndexEngine.get_loc\u001b[1;34m()\u001b[0m\n",
      "\u001b[1;32m~\\anaconda3\\lib\\site-packages\\pandas\\_libs\\index.pyx\u001b[0m in \u001b[0;36mpandas._libs.index.IndexEngine.get_loc\u001b[1;34m()\u001b[0m\n",
      "\u001b[1;32mpandas\\_libs\\hashtable_class_helper.pxi\u001b[0m in \u001b[0;36mpandas._libs.hashtable.PyObjectHashTable.get_item\u001b[1;34m()\u001b[0m\n",
      "\u001b[1;32mpandas\\_libs\\hashtable_class_helper.pxi\u001b[0m in \u001b[0;36mpandas._libs.hashtable.PyObjectHashTable.get_item\u001b[1;34m()\u001b[0m\n",
      "\u001b[1;31mKeyError\u001b[0m: 'page'",
      "\nThe above exception was the direct cause of the following exception:\n",
      "\u001b[1;31mKeyError\u001b[0m                                  Traceback (most recent call last)",
      "\u001b[1;32m<ipython-input-49-263240bbee7e>\u001b[0m in \u001b[0;36m<module>\u001b[1;34m\u001b[0m\n\u001b[1;32m----> 1\u001b[1;33m \u001b[0mmain\u001b[0m\u001b[1;33m(\u001b[0m\u001b[1;33m)\u001b[0m\u001b[1;33m\u001b[0m\u001b[1;33m\u001b[0m\u001b[0m\n\u001b[0m",
      "\u001b[1;32m<ipython-input-48-16e25a9eb89f>\u001b[0m in \u001b[0;36mmain\u001b[1;34m()\u001b[0m\n\u001b[0;32m      3\u001b[0m \u001b[1;33m\u001b[0m\u001b[0m\n\u001b[0;32m      4\u001b[0m     \u001b[0mprocessData\u001b[0m\u001b[1;33m(\u001b[0m\u001b[0mcur\u001b[0m\u001b[1;33m,\u001b[0m \u001b[0mconn\u001b[0m\u001b[1;33m,\u001b[0m \u001b[0mfilepath\u001b[0m\u001b[1;33m=\u001b[0m\u001b[1;34m'./data/song_data'\u001b[0m\u001b[1;33m,\u001b[0m \u001b[0mfunc\u001b[0m\u001b[1;33m=\u001b[0m\u001b[0mprocess_song_file\u001b[0m\u001b[1;33m)\u001b[0m\u001b[1;33m\u001b[0m\u001b[1;33m\u001b[0m\u001b[0m\n\u001b[1;32m----> 5\u001b[1;33m     \u001b[0mprocessData\u001b[0m\u001b[1;33m(\u001b[0m\u001b[0mcur\u001b[0m\u001b[1;33m,\u001b[0m \u001b[0mconn\u001b[0m\u001b[1;33m,\u001b[0m \u001b[0mfilepath\u001b[0m\u001b[1;33m=\u001b[0m\u001b[1;34m'data/log_data'\u001b[0m\u001b[1;33m,\u001b[0m \u001b[0mfunc\u001b[0m\u001b[1;33m=\u001b[0m\u001b[0mprocess_log_file\u001b[0m\u001b[1;33m)\u001b[0m\u001b[1;33m\u001b[0m\u001b[1;33m\u001b[0m\u001b[0m\n\u001b[0m\u001b[0;32m      6\u001b[0m \u001b[1;33m\u001b[0m\u001b[0m\n\u001b[0;32m      7\u001b[0m     \u001b[0mclose_connection\u001b[0m\u001b[1;33m(\u001b[0m\u001b[0mcur\u001b[0m \u001b[1;33m,\u001b[0m \u001b[0mconn\u001b[0m\u001b[1;33m)\u001b[0m\u001b[1;33m\u001b[0m\u001b[1;33m\u001b[0m\u001b[0m\n",
      "\u001b[1;32m<ipython-input-47-93027eaa6af5>\u001b[0m in \u001b[0;36mprocessData\u001b[1;34m(cur, conn, filepath, func)\u001b[0m\n\u001b[0;32m     99\u001b[0m     \u001b[0mall_files\u001b[0m \u001b[1;33m=\u001b[0m \u001b[0mget_all_files_matching_from_directory\u001b[0m\u001b[1;33m(\u001b[0m\u001b[0mfilepath\u001b[0m\u001b[1;33m,\u001b[0m \u001b[1;34m'*.json'\u001b[0m\u001b[1;33m)\u001b[0m\u001b[1;33m\u001b[0m\u001b[1;33m\u001b[0m\u001b[0m\n\u001b[0;32m    100\u001b[0m     \u001b[1;32mfor\u001b[0m \u001b[0mi\u001b[0m \u001b[1;33m,\u001b[0m \u001b[0mdataFile\u001b[0m \u001b[1;32min\u001b[0m \u001b[0menumerate\u001b[0m\u001b[1;33m(\u001b[0m\u001b[0mallFiles\u001b[0m \u001b[1;33m,\u001b[0m\u001b[1;36m1\u001b[0m\u001b[1;33m)\u001b[0m\u001b[1;33m:\u001b[0m\u001b[1;33m\u001b[0m\u001b[1;33m\u001b[0m\u001b[0m\n\u001b[1;32m--> 101\u001b[1;33m         \u001b[0mfunc\u001b[0m\u001b[1;33m(\u001b[0m\u001b[0mcur\u001b[0m \u001b[1;33m,\u001b[0m \u001b[0mdataFile\u001b[0m\u001b[1;33m)\u001b[0m\u001b[1;33m\u001b[0m\u001b[1;33m\u001b[0m\u001b[0m\n\u001b[0m\u001b[0;32m    102\u001b[0m         \u001b[0mconn\u001b[0m\u001b[1;33m.\u001b[0m\u001b[0mcommit\u001b[0m\u001b[1;33m(\u001b[0m\u001b[1;33m)\u001b[0m\u001b[1;33m\u001b[0m\u001b[1;33m\u001b[0m\u001b[0m\n\u001b[0;32m    103\u001b[0m         \u001b[0mprint\u001b[0m\u001b[1;33m(\u001b[0m\u001b[1;34m\"path file :{} : {} \"\u001b[0m\u001b[1;33m.\u001b[0m\u001b[0mformat\u001b[0m\u001b[1;33m(\u001b[0m\u001b[0mfilepath\u001b[0m \u001b[1;33m,\u001b[0m\u001b[0mi\u001b[0m\u001b[1;33m)\u001b[0m\u001b[1;33m)\u001b[0m\u001b[1;33m\u001b[0m\u001b[1;33m\u001b[0m\u001b[0m\n",
      "\u001b[1;32m<ipython-input-47-93027eaa6af5>\u001b[0m in \u001b[0;36mprocess_log_file\u001b[1;34m(cur, filepath)\u001b[0m\n\u001b[0;32m     76\u001b[0m     \u001b[0mcolumns\u001b[0m \u001b[1;33m=\u001b[0m \u001b[0mdf\u001b[0m\u001b[1;33m.\u001b[0m\u001b[0mcolumns\u001b[0m\u001b[1;33m\u001b[0m\u001b[1;33m\u001b[0m\u001b[0m\n\u001b[0;32m     77\u001b[0m \u001b[1;33m\u001b[0m\u001b[0m\n\u001b[1;32m---> 78\u001b[1;33m     \u001b[0mdf\u001b[0m \u001b[1;33m=\u001b[0m \u001b[0mdf\u001b[0m\u001b[1;33m.\u001b[0m\u001b[0mloc\u001b[0m\u001b[1;33m[\u001b[0m\u001b[0mdf\u001b[0m\u001b[1;33m[\u001b[0m\u001b[1;34m'page'\u001b[0m\u001b[1;33m]\u001b[0m \u001b[1;33m==\u001b[0m \u001b[1;34m'NextSong'\u001b[0m\u001b[1;33m]\u001b[0m\u001b[1;33m\u001b[0m\u001b[1;33m\u001b[0m\u001b[0m\n\u001b[0m\u001b[0;32m     79\u001b[0m     \u001b[0mprint\u001b[0m\u001b[1;33m(\u001b[0m\u001b[0mdf\u001b[0m\u001b[1;33m.\u001b[0m\u001b[0mcolumns\u001b[0m\u001b[1;33m)\u001b[0m\u001b[1;33m\u001b[0m\u001b[1;33m\u001b[0m\u001b[0m\n\u001b[0;32m     80\u001b[0m \u001b[1;33m\u001b[0m\u001b[0m\n",
      "\u001b[1;32m~\\anaconda3\\lib\\site-packages\\pandas\\core\\frame.py\u001b[0m in \u001b[0;36m__getitem__\u001b[1;34m(self, key)\u001b[0m\n\u001b[0;32m   3453\u001b[0m             \u001b[1;32mif\u001b[0m \u001b[0mself\u001b[0m\u001b[1;33m.\u001b[0m\u001b[0mcolumns\u001b[0m\u001b[1;33m.\u001b[0m\u001b[0mnlevels\u001b[0m \u001b[1;33m>\u001b[0m \u001b[1;36m1\u001b[0m\u001b[1;33m:\u001b[0m\u001b[1;33m\u001b[0m\u001b[1;33m\u001b[0m\u001b[0m\n\u001b[0;32m   3454\u001b[0m                 \u001b[1;32mreturn\u001b[0m \u001b[0mself\u001b[0m\u001b[1;33m.\u001b[0m\u001b[0m_getitem_multilevel\u001b[0m\u001b[1;33m(\u001b[0m\u001b[0mkey\u001b[0m\u001b[1;33m)\u001b[0m\u001b[1;33m\u001b[0m\u001b[1;33m\u001b[0m\u001b[0m\n\u001b[1;32m-> 3455\u001b[1;33m             \u001b[0mindexer\u001b[0m \u001b[1;33m=\u001b[0m \u001b[0mself\u001b[0m\u001b[1;33m.\u001b[0m\u001b[0mcolumns\u001b[0m\u001b[1;33m.\u001b[0m\u001b[0mget_loc\u001b[0m\u001b[1;33m(\u001b[0m\u001b[0mkey\u001b[0m\u001b[1;33m)\u001b[0m\u001b[1;33m\u001b[0m\u001b[1;33m\u001b[0m\u001b[0m\n\u001b[0m\u001b[0;32m   3456\u001b[0m             \u001b[1;32mif\u001b[0m \u001b[0mis_integer\u001b[0m\u001b[1;33m(\u001b[0m\u001b[0mindexer\u001b[0m\u001b[1;33m)\u001b[0m\u001b[1;33m:\u001b[0m\u001b[1;33m\u001b[0m\u001b[1;33m\u001b[0m\u001b[0m\n\u001b[0;32m   3457\u001b[0m                 \u001b[0mindexer\u001b[0m \u001b[1;33m=\u001b[0m \u001b[1;33m[\u001b[0m\u001b[0mindexer\u001b[0m\u001b[1;33m]\u001b[0m\u001b[1;33m\u001b[0m\u001b[1;33m\u001b[0m\u001b[0m\n",
      "\u001b[1;32m~\\anaconda3\\lib\\site-packages\\pandas\\core\\indexes\\base.py\u001b[0m in \u001b[0;36mget_loc\u001b[1;34m(self, key, method, tolerance)\u001b[0m\n\u001b[0;32m   3361\u001b[0m                 \u001b[1;32mreturn\u001b[0m \u001b[0mself\u001b[0m\u001b[1;33m.\u001b[0m\u001b[0m_engine\u001b[0m\u001b[1;33m.\u001b[0m\u001b[0mget_loc\u001b[0m\u001b[1;33m(\u001b[0m\u001b[0mcasted_key\u001b[0m\u001b[1;33m)\u001b[0m\u001b[1;33m\u001b[0m\u001b[1;33m\u001b[0m\u001b[0m\n\u001b[0;32m   3362\u001b[0m             \u001b[1;32mexcept\u001b[0m \u001b[0mKeyError\u001b[0m \u001b[1;32mas\u001b[0m \u001b[0merr\u001b[0m\u001b[1;33m:\u001b[0m\u001b[1;33m\u001b[0m\u001b[1;33m\u001b[0m\u001b[0m\n\u001b[1;32m-> 3363\u001b[1;33m                 \u001b[1;32mraise\u001b[0m \u001b[0mKeyError\u001b[0m\u001b[1;33m(\u001b[0m\u001b[0mkey\u001b[0m\u001b[1;33m)\u001b[0m \u001b[1;32mfrom\u001b[0m \u001b[0merr\u001b[0m\u001b[1;33m\u001b[0m\u001b[1;33m\u001b[0m\u001b[0m\n\u001b[0m\u001b[0;32m   3364\u001b[0m \u001b[1;33m\u001b[0m\u001b[0m\n\u001b[0;32m   3365\u001b[0m         \u001b[1;32mif\u001b[0m \u001b[0mis_scalar\u001b[0m\u001b[1;33m(\u001b[0m\u001b[0mkey\u001b[0m\u001b[1;33m)\u001b[0m \u001b[1;32mand\u001b[0m \u001b[0misna\u001b[0m\u001b[1;33m(\u001b[0m\u001b[0mkey\u001b[0m\u001b[1;33m)\u001b[0m \u001b[1;32mand\u001b[0m \u001b[1;32mnot\u001b[0m \u001b[0mself\u001b[0m\u001b[1;33m.\u001b[0m\u001b[0mhasnans\u001b[0m\u001b[1;33m:\u001b[0m\u001b[1;33m\u001b[0m\u001b[1;33m\u001b[0m\u001b[0m\n",
      "\u001b[1;31mKeyError\u001b[0m: 'page'"
     ]
    }
   ],
   "metadata": {}
  }
 ],
 "metadata": {
  "orig_nbformat": 4,
  "language_info": {
   "name": "python",
   "version": "3.8.11",
   "mimetype": "text/x-python",
   "codemirror_mode": {
    "name": "ipython",
    "version": 3
   },
   "pygments_lexer": "ipython3",
   "nbconvert_exporter": "python",
   "file_extension": ".py"
  },
  "kernelspec": {
   "name": "python3",
   "display_name": "Python 3.8.11 64-bit ('base': conda)"
  },
  "interpreter": {
   "hash": "270ef99d19444df5392968ad9740352ec9e34f2a2ff675e18d7d01608f636279"
  }
 },
 "nbformat": 4,
 "nbformat_minor": 2
}